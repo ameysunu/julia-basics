{
  "cells": [
    {
      "cell_type": "markdown",
      "source": [
        "# Getting started\n",
        "\n",
        "Topics:\n",
        "1.  How to print\n",
        "2. How to assign variables\n",
        "3. How to comment\n",
        "4. Syntax for basic math"
      ],
      "metadata": {}
    },
    {
      "cell_type": "markdown",
      "source": [
        "## How to print\n",
        "\n",
        "In Julia we usually use `println()` to print"
      ],
      "metadata": {}
    },
    {
      "cell_type": "code",
      "source": [
        "println(\"I'm excited to learn Julia!\")"
      ],
      "outputs": [
        {
          "output_type": "stream",
          "name": "stdout",
          "text": [
            "I'm excited to learn Julia!\n"
          ]
        }
      ],
      "execution_count": 1,
      "metadata": {
        "execution": {
          "iopub.status.busy": "2020-09-15T08:07:37.185Z",
          "iopub.execute_input": "2020-09-15T08:07:37.659Z",
          "iopub.status.idle": "2020-09-15T08:07:37.858Z"
        }
      }
    },
    {
      "cell_type": "markdown",
      "source": [
        "## How to assign variables\n",
        "\n",
        "All we need is a variable name, value, and an equal's sign!<br>\n",
        "Julia will figure out types for us."
      ],
      "metadata": {}
    },
    {
      "cell_type": "code",
      "source": [
        "my_answer = 42\n",
        "typeof(my_answer)"
      ],
      "outputs": [
        {
          "output_type": "execute_result",
          "execution_count": 4,
          "data": {
            "text/plain": "Int64"
          },
          "metadata": {}
        }
      ],
      "execution_count": 4,
      "metadata": {
        "execution": {
          "iopub.status.busy": "2020-09-15T08:07:46.141Z",
          "iopub.execute_input": "2020-09-15T08:07:46.150Z",
          "iopub.status.idle": "2020-09-15T08:07:46.166Z"
        }
      }
    },
    {
      "cell_type": "code",
      "source": [
        "my_pi = 3.14159\n",
        "typeof(my_pi)"
      ],
      "outputs": [],
      "execution_count": null,
      "metadata": {}
    },
    {
      "cell_type": "code",
      "source": [
        "😺 = \"smiley cat!\"\n",
        "typeof(😺)"
      ],
      "outputs": [],
      "execution_count": null,
      "metadata": {}
    },
    {
      "cell_type": "markdown",
      "source": [
        "To type a smiley cat, use tab completion to select the emoji name and then tab again"
      ],
      "metadata": {}
    },
    {
      "cell_type": "code",
      "source": [
        "# \\:smi + <tab> --> select with down arrow + <enter> ---> <tab> + <enter> to complete"
      ],
      "outputs": [],
      "execution_count": null,
      "metadata": {}
    },
    {
      "cell_type": "markdown",
      "source": [
        "After assigning a value to a variable, we can reassign a value of a different type to that variable without any issue."
      ],
      "metadata": {}
    },
    {
      "cell_type": "code",
      "source": [
        "😺 = 1"
      ],
      "outputs": [],
      "execution_count": null,
      "metadata": {}
    },
    {
      "cell_type": "code",
      "source": [
        "typeof(😺)"
      ],
      "outputs": [],
      "execution_count": null,
      "metadata": {}
    },
    {
      "cell_type": "markdown",
      "source": [
        "Note: Julia allows us to write super generic code, and 😺 is an example of this. \n",
        "\n",
        "This allows us to write code like"
      ],
      "metadata": {}
    },
    {
      "cell_type": "code",
      "source": [
        "😀 = 0\n",
        "😞 = -1"
      ],
      "outputs": [],
      "execution_count": null,
      "metadata": {}
    },
    {
      "cell_type": "code",
      "source": [
        "😺 + 😞 == 😀"
      ],
      "outputs": [],
      "execution_count": null,
      "metadata": {}
    },
    {
      "cell_type": "markdown",
      "source": [
        "## How to comment"
      ],
      "metadata": {}
    },
    {
      "cell_type": "code",
      "source": [
        "# You can leave comments on a single line using the pound/hash key"
      ],
      "outputs": [],
      "execution_count": null,
      "metadata": {}
    },
    {
      "cell_type": "code",
      "source": [
        "#=\n",
        "\n",
        "For multi-line comments, \n",
        "use the '#= =#' sequence.\n",
        "\n",
        "=#"
      ],
      "outputs": [],
      "execution_count": null,
      "metadata": {}
    },
    {
      "cell_type": "markdown",
      "source": [
        "## Syntax for basic math"
      ],
      "metadata": {}
    },
    {
      "cell_type": "code",
      "source": [
        "sum = 3 + 7"
      ],
      "outputs": [],
      "execution_count": null,
      "metadata": {}
    },
    {
      "cell_type": "code",
      "source": [
        "difference = 10 - 3"
      ],
      "outputs": [],
      "execution_count": null,
      "metadata": {}
    },
    {
      "cell_type": "code",
      "source": [
        "product = 20 * 5"
      ],
      "outputs": [],
      "execution_count": null,
      "metadata": {}
    },
    {
      "cell_type": "code",
      "source": [
        "quotient = 100 / 10"
      ],
      "outputs": [],
      "execution_count": null,
      "metadata": {}
    },
    {
      "cell_type": "code",
      "source": [
        "power = 10 ^ 2"
      ],
      "outputs": [],
      "execution_count": null,
      "metadata": {}
    },
    {
      "cell_type": "code",
      "source": [
        "modulus = 101 % 2"
      ],
      "outputs": [],
      "execution_count": null,
      "metadata": {}
    },
    {
      "cell_type": "markdown",
      "source": [
        "### Exercises\n",
        "\n",
        "#### 1.1 \n",
        "Look up docs for the `convert` function."
      ],
      "metadata": {}
    },
    {
      "cell_type": "code",
      "source": [],
      "outputs": [],
      "execution_count": null,
      "metadata": {}
    },
    {
      "cell_type": "markdown",
      "source": [
        "#### 1.2 \n",
        "Assign `365` to a variable named `days`. Convert `days` to a float and assign it to variable `days_float`"
      ],
      "metadata": {}
    },
    {
      "cell_type": "code",
      "source": [],
      "outputs": [],
      "execution_count": null,
      "metadata": {}
    },
    {
      "cell_type": "code",
      "source": [
        "@assert days == 365\n",
        "@assert days_float == 365.0\n"
      ],
      "outputs": [],
      "execution_count": null,
      "metadata": {
        "deletable": false,
        "editable": false,
        "hide_input": true,
        "nbgrader": {
          "checksum": "a2dc243275e0310c3b29a745b952f321",
          "grade": true,
          "grade_id": "cell-715f78016beb0489",
          "locked": true,
          "points": 1,
          "schema_version": 1,
          "solution": false
        }
      }
    },
    {
      "cell_type": "markdown",
      "source": [
        "#### 1.3 \n",
        "See what happens when you execute\n",
        "\n",
        "```julia\n",
        "convert(Int64, \"1\")\n",
        "```\n",
        "and\n",
        "\n",
        "```julia\n",
        "parse(Int64, \"1\")\n",
        "```"
      ],
      "metadata": {}
    },
    {
      "cell_type": "code",
      "source": [],
      "outputs": [],
      "execution_count": null,
      "metadata": {}
    },
    {
      "cell_type": "code",
      "source": [
        "Please click on `Validate` on the top, once you are done with the exercises."
      ],
      "outputs": [],
      "execution_count": null,
      "metadata": {}
    }
  ],
  "metadata": {
    "kernelspec": {
      "display_name": "Julia 1.0.0",
      "language": "julia",
      "name": "julia-1.0"
    },
    "language_info": {
      "file_extension": ".jl",
      "name": "julia",
      "mimetype": "application/julia",
      "version": "1.5.1"
    },
    "nteract": {
      "version": "0.25.0"
    }
  },
  "nbformat": 4,
  "nbformat_minor": 2
}