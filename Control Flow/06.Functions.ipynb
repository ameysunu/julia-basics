{
  "cells": [
    {
      "cell_type": "markdown",
      "source": [
        "# Functions\n",
        "\n",
        "Topics:\n",
        "1. How to declare a function\n",
        "2. Duck-typing in Julia\n",
        "3. Mutating vs. non-mutating functions\n",
        "4. Some higher order functions"
      ],
      "metadata": {}
    },
    {
      "cell_type": "markdown",
      "source": [
        "## How to declare a function\n",
        "Julia gives us a few different ways to write a function. The first requires the `function` and `end` keywords"
      ],
      "metadata": {}
    },
    {
      "cell_type": "code",
      "source": [
        "function sayhi(name)\n",
        "    println(\"Hi $name, it's great to see you!\")\n",
        "end"
      ],
      "outputs": [
        {
          "output_type": "execute_result",
          "execution_count": 1,
          "data": {
            "text/plain": "sayhi (generic function with 1 method)"
          },
          "metadata": {}
        }
      ],
      "execution_count": 1,
      "metadata": {
        "execution": {
          "iopub.status.busy": "2020-09-15T08:45:57.910Z",
          "iopub.execute_input": "2020-09-15T08:45:58.518Z",
          "iopub.status.idle": "2020-09-15T08:46:00.152Z"
        }
      }
    },
    {
      "cell_type": "code",
      "source": [
        "function f(x)\n",
        "    x^2\n",
        "end"
      ],
      "outputs": [],
      "execution_count": null,
      "metadata": {}
    },
    {
      "cell_type": "markdown",
      "source": [
        "We can call either of these functions like this:"
      ],
      "metadata": {}
    },
    {
      "cell_type": "code",
      "source": [
        "sayhi(\"C-3PO\")"
      ],
      "outputs": [],
      "execution_count": null,
      "metadata": {}
    },
    {
      "cell_type": "code",
      "source": [
        "f(42)"
      ],
      "outputs": [],
      "execution_count": null,
      "metadata": {}
    },
    {
      "cell_type": "markdown",
      "source": [
        "Alternatively, we could have declared either of these functions in a single line"
      ],
      "metadata": {}
    },
    {
      "cell_type": "code",
      "source": [
        "sayhi2(name) = println(\"Hi $name, it's great to see you!\")"
      ],
      "outputs": [
        {
          "output_type": "execute_result",
          "execution_count": 2,
          "data": {
            "text/plain": "sayhi2 (generic function with 1 method)"
          },
          "metadata": {}
        }
      ],
      "execution_count": 2,
      "metadata": {
        "execution": {
          "iopub.status.busy": "2020-09-15T08:47:19.008Z",
          "iopub.execute_input": "2020-09-15T08:47:19.037Z",
          "iopub.status.idle": "2020-09-15T08:47:19.177Z"
        }
      }
    },
    {
      "cell_type": "code",
      "source": [
        "f2(x) = x^2"
      ],
      "outputs": [],
      "execution_count": null,
      "metadata": {}
    },
    {
      "cell_type": "code",
      "source": [
        "sayhi2(\"R2D2\")"
      ],
      "outputs": [],
      "execution_count": null,
      "metadata": {}
    },
    {
      "cell_type": "code",
      "source": [
        "f2(42)"
      ],
      "outputs": [],
      "execution_count": null,
      "metadata": {}
    },
    {
      "cell_type": "markdown",
      "source": [
        "Finally, we could have declared these as \"anonymous\" functions"
      ],
      "metadata": {}
    },
    {
      "cell_type": "code",
      "source": [
        "sayhi3 = name -> println(\"Hi $name, it's great to see you!\")"
      ],
      "outputs": [],
      "execution_count": null,
      "metadata": {}
    },
    {
      "cell_type": "code",
      "source": [
        "f3 = x -> x^2"
      ],
      "outputs": [],
      "execution_count": null,
      "metadata": {}
    },
    {
      "cell_type": "code",
      "source": [
        "sayhi3(\"Chewbacca\")"
      ],
      "outputs": [],
      "execution_count": null,
      "metadata": {}
    },
    {
      "cell_type": "code",
      "source": [
        "f3(42)"
      ],
      "outputs": [],
      "execution_count": null,
      "metadata": {}
    },
    {
      "cell_type": "markdown",
      "source": [
        "## Duck-typing in Julia\n",
        "*\"If it quacks like a duck, it's a duck.\"* <br><br>\n",
        "Julia functions will just work on whatever inputs make sense. <br><br>\n",
        "For example, `sayhi` works on the name of this minor tv character, written as an integer..."
      ],
      "metadata": {}
    },
    {
      "cell_type": "code",
      "source": [
        "sayhi(55595472)"
      ],
      "outputs": [
        {
          "output_type": "stream",
          "name": "stdout",
          "text": [
            "Hi 55595472, it's great to see you!\n"
          ]
        }
      ],
      "execution_count": 3,
      "metadata": {
        "execution": {
          "iopub.status.busy": "2020-09-15T08:47:34.643Z",
          "iopub.execute_input": "2020-09-15T08:47:34.664Z",
          "iopub.status.idle": "2020-09-15T08:47:34.769Z"
        }
      }
    },
    {
      "cell_type": "markdown",
      "source": [
        "And `f` will work on a matrix."
      ],
      "metadata": {}
    },
    {
      "cell_type": "code",
      "source": [
        "A = rand(3, 3)\n",
        "A"
      ],
      "outputs": [
        {
          "output_type": "execute_result",
          "execution_count": 4,
          "data": {
            "text/plain": "3×3 Array{Float64,2}:\n 0.663995  0.927661  0.602012\n 0.163085  0.894059  0.715463\n 0.30864   0.136539  0.502119"
          },
          "metadata": {}
        }
      ],
      "execution_count": 4,
      "metadata": {
        "execution": {
          "iopub.status.busy": "2020-09-15T08:47:37.632Z",
          "iopub.execute_input": "2020-09-15T08:47:37.651Z",
          "iopub.status.idle": "2020-09-15T08:47:38.761Z"
        }
      }
    },
    {
      "cell_type": "code",
      "source": [
        "f(A)"
      ],
      "outputs": [],
      "execution_count": null,
      "metadata": {}
    },
    {
      "cell_type": "markdown",
      "source": [
        "`f` will also work on a string like \"hi\" because `*` is defined for string inputs as string concatenation."
      ],
      "metadata": {}
    },
    {
      "cell_type": "code",
      "source": [
        "f(\"hi\")"
      ],
      "outputs": [
        {
          "output_type": "error",
          "ename": "LoadError",
          "evalue": "UndefVarError: f not defined",
          "traceback": [
            "UndefVarError: f not defined",
            "",
            "Stacktrace:",
            " [1] top-level scope at In[6]:1",
            " [2] include_string(::Function, ::Module, ::String, ::String) at .\\loading.jl:1091"
          ]
        }
      ],
      "execution_count": 6,
      "metadata": {
        "execution": {
          "iopub.status.busy": "2020-09-15T08:47:47.855Z",
          "iopub.execute_input": "2020-09-15T08:47:47.875Z",
          "iopub.status.idle": "2020-09-15T08:47:48.263Z"
        }
      }
    },
    {
      "cell_type": "markdown",
      "source": [
        "On the other hand, `f` will not work on a vector. Unlike `A^2`, which is well-defined, the meaning of `v^2` for a vector, `v`, is not a well-defined algebraic operation."
      ],
      "metadata": {}
    },
    {
      "cell_type": "code",
      "source": [
        "v = rand(3)"
      ],
      "outputs": [
        {
          "output_type": "execute_result",
          "execution_count": 5,
          "data": {
            "text/plain": "3-element Array{Float64,1}:\n 0.5259186761537509\n 0.6472679336674911\n 0.4626841023914008"
          },
          "metadata": {}
        }
      ],
      "execution_count": 5,
      "metadata": {
        "execution": {
          "iopub.status.busy": "2020-09-15T08:47:45.016Z",
          "iopub.execute_input": "2020-09-15T08:47:45.064Z",
          "iopub.status.idle": "2020-09-15T08:47:45.908Z"
        }
      }
    },
    {
      "cell_type": "code",
      "source": [
        "f(v)"
      ],
      "outputs": [],
      "execution_count": null,
      "metadata": {}
    },
    {
      "cell_type": "markdown",
      "source": [
        "## Mutating vs. non-mutating functions\n",
        "\n",
        "By convention, functions followed by `!` alter their contents and functions lacking `!` do not.\n",
        "\n",
        "For example, let's look at the difference between `sort` and `sort!`."
      ],
      "metadata": {}
    },
    {
      "cell_type": "code",
      "source": [
        "v = [3, 5, 2]"
      ],
      "outputs": [],
      "execution_count": null,
      "metadata": {}
    },
    {
      "cell_type": "code",
      "source": [
        "sort(v)"
      ],
      "outputs": [
        {
          "output_type": "execute_result",
          "execution_count": 7,
          "data": {
            "text/plain": "3-element Array{Float64,1}:\n 0.4626841023914008\n 0.5259186761537509\n 0.6472679336674911"
          },
          "metadata": {}
        }
      ],
      "execution_count": 7,
      "metadata": {
        "execution": {
          "iopub.status.busy": "2020-09-15T08:47:54.567Z",
          "iopub.execute_input": "2020-09-15T08:47:54.606Z",
          "iopub.status.idle": "2020-09-15T08:47:54.722Z"
        }
      }
    },
    {
      "cell_type": "code",
      "source": [
        "v"
      ],
      "outputs": [
        {
          "output_type": "execute_result",
          "execution_count": 8,
          "data": {
            "text/plain": "3-element Array{Float64,1}:\n 0.5259186761537509\n 0.6472679336674911\n 0.4626841023914008"
          },
          "metadata": {}
        }
      ],
      "execution_count": 8,
      "metadata": {
        "execution": {
          "iopub.status.busy": "2020-09-15T08:47:56.500Z",
          "iopub.execute_input": "2020-09-15T08:47:56.521Z",
          "iopub.status.idle": "2020-09-15T08:47:56.560Z"
        }
      }
    },
    {
      "cell_type": "markdown",
      "source": [
        "`sort(v)` returns a sorted array that contains the same elements as `v`, but `v` is left unchanged. <br><br>\n",
        "\n",
        "On the other hand, when we run `sort!(v)`, the contents of v are sorted within the array `v`."
      ],
      "metadata": {}
    },
    {
      "cell_type": "code",
      "source": [
        "sort!(v)"
      ],
      "outputs": [
        {
          "output_type": "execute_result",
          "execution_count": 9,
          "data": {
            "text/plain": "3-element Array{Float64,1}:\n 0.4626841023914008\n 0.5259186761537509\n 0.6472679336674911"
          },
          "metadata": {}
        }
      ],
      "execution_count": 9,
      "metadata": {
        "execution": {
          "iopub.status.busy": "2020-09-15T08:48:03.930Z",
          "iopub.execute_input": "2020-09-15T08:48:03.949Z",
          "iopub.status.idle": "2020-09-15T08:48:03.986Z"
        }
      }
    },
    {
      "cell_type": "code",
      "source": [
        "v"
      ],
      "outputs": [],
      "execution_count": null,
      "metadata": {}
    },
    {
      "cell_type": "markdown",
      "source": [
        "## Some higher order functions\n",
        "\n",
        "### map\n",
        "\n",
        "`map` is a \"higher-order\" function in Julia that *takes a function* as one of its input arguments.\n",
        "`map` then applies that function to every element of the data structure you pass it. For example, executing\n",
        "\n",
        "```julia\n",
        "map(f, [1, 2, 3])\n",
        "```\n",
        "will give you an output array where the function `f` has been applied to all elements of `[1, 2, 3]`\n",
        "```julia\n",
        "[f(1), f(2), f(3)]\n",
        "```"
      ],
      "metadata": {}
    },
    {
      "cell_type": "code",
      "source": [
        "map(f, [1, 2, 3])"
      ],
      "outputs": [],
      "execution_count": null,
      "metadata": {}
    },
    {
      "cell_type": "markdown",
      "source": [
        "Here we've squared all the elements of the vector `[1, 2, 3]`, rather than squaring the vector `[1, 2, 3]`.\n",
        "\n",
        "To do this, we could have passed to `map` an anonymous function rather than a named function, such as"
      ],
      "metadata": {}
    },
    {
      "cell_type": "code",
      "source": [
        "x -> x^3"
      ],
      "outputs": [],
      "execution_count": null,
      "metadata": {}
    },
    {
      "cell_type": "markdown",
      "source": [
        "via"
      ],
      "metadata": {}
    },
    {
      "cell_type": "code",
      "source": [
        "map(x -> x^3, [1, 2, 3])"
      ],
      "outputs": [],
      "execution_count": null,
      "metadata": {}
    },
    {
      "cell_type": "markdown",
      "source": [
        "and now we've cubed all the elements of `[1, 2, 3]`!"
      ],
      "metadata": {}
    },
    {
      "cell_type": "markdown",
      "source": [
        "### broadcast\n",
        "\n",
        "`broadcast` is another higher-order function like `map`. `broadcast` is a generalization of `map`, so it can do every thing `map` can do and more. The syntax for calling `broadcast` is the same as for calling `map`"
      ],
      "metadata": {}
    },
    {
      "cell_type": "code",
      "source": [
        "broadcast(f, [1, 2, 3])"
      ],
      "outputs": [],
      "execution_count": null,
      "metadata": {}
    },
    {
      "cell_type": "markdown",
      "source": [
        "and again, we've applied `f` (squared) to all the elements of `[1, 2, 3]` - this time by \"broadcasting\" `f`!\n",
        "\n",
        "Some syntactic sugar for calling `broadcast` is to place a `.` between the name of the function you want to `broadcast` and its input arguments. For example,\n",
        "\n",
        "```julia\n",
        "broadcast(f, [1, 2, 3])\n",
        "```\n",
        "is the same as\n",
        "```julia\n",
        "f.([1, 2, 3])\n",
        "```"
      ],
      "metadata": {}
    },
    {
      "cell_type": "code",
      "source": [
        "f.([1, 2, 3])"
      ],
      "outputs": [],
      "execution_count": null,
      "metadata": {}
    },
    {
      "cell_type": "markdown",
      "source": [
        "Notice again how different this is from calling\n",
        "```julia\n",
        "f([1, 2, 3])\n",
        "```\n",
        "We can square every element of a vector, but we can't square a vector!"
      ],
      "metadata": {}
    },
    {
      "cell_type": "markdown",
      "source": [
        "To drive home the point, let's look at the difference between\n",
        "\n",
        "```julia\n",
        "f(A)\n",
        "```\n",
        "and\n",
        "```julia\n",
        "f.(A)\n",
        "```\n",
        "for a matrix `A`:"
      ],
      "metadata": {}
    },
    {
      "cell_type": "code",
      "source": [
        "A = [i + 3*j for j in 0:2, i in 1:3]"
      ],
      "outputs": [],
      "execution_count": null,
      "metadata": {}
    },
    {
      "cell_type": "code",
      "source": [
        "f(A)"
      ],
      "outputs": [],
      "execution_count": null,
      "metadata": {}
    },
    {
      "cell_type": "markdown",
      "source": [
        "As before we see that for a matrix, `A`,\n",
        "```\n",
        "f(A) = A^2 = A * A\n",
        "```\n",
        "\n",
        "On the other hand,"
      ],
      "metadata": {}
    },
    {
      "cell_type": "code",
      "source": [
        "B = f.(A)"
      ],
      "outputs": [],
      "execution_count": null,
      "metadata": {}
    },
    {
      "cell_type": "markdown",
      "source": [
        "contains the squares of all the entries of `A`.\n",
        "\n",
        "This dot syntax for broadcasting allows us to write relatively complex compound elementwise expressions in a way that looks natural/closer to mathematical notation. For example, we can write"
      ],
      "metadata": {}
    },
    {
      "cell_type": "code",
      "source": [
        "A .+ 2 .* f.(A) ./ A"
      ],
      "outputs": [],
      "execution_count": null,
      "metadata": {}
    },
    {
      "cell_type": "markdown",
      "source": [
        "instead of"
      ],
      "metadata": {}
    },
    {
      "cell_type": "code",
      "source": [
        "broadcast(x -> x + 2 * f(x) / x, A)"
      ],
      "outputs": [],
      "execution_count": null,
      "metadata": {}
    },
    {
      "cell_type": "markdown",
      "source": [
        "and the two will perform exactly the same."
      ],
      "metadata": {}
    },
    {
      "cell_type": "markdown",
      "source": [
        "### Exercises\n",
        "\n",
        "#### 6.1\n",
        "Write a function `add_one` that adds 1 to its input."
      ],
      "metadata": {}
    },
    {
      "cell_type": "code",
      "source": [
        "@assert add_one(1) == 2"
      ],
      "outputs": [],
      "execution_count": null,
      "metadata": {}
    },
    {
      "cell_type": "code",
      "source": [
        "@assert add_one(11) == 12"
      ],
      "outputs": [],
      "execution_count": null,
      "metadata": {}
    },
    {
      "cell_type": "markdown",
      "source": [
        "#### 6.2\n",
        "Use `map` or `broadcast` to increment every element of matrix `A` by `1` and assign it to a variable `A1`."
      ],
      "metadata": {}
    },
    {
      "cell_type": "markdown",
      "source": [
        "#### 6.3\n",
        "Use the broadcast dot syntax to increment every element of matrix `A1` by `1` and store it in variable `A2`"
      ],
      "metadata": {}
    },
    {
      "cell_type": "code",
      "source": [
        "@assert A2 == [3 4 5; 6 7 8;9 10 11]"
      ],
      "outputs": [],
      "execution_count": null,
      "metadata": {}
    }
  ],
  "metadata": {
    "language_info": {
      "file_extension": ".jl",
      "name": "julia",
      "mimetype": "application/julia",
      "version": "1.5.1"
    },
    "kernelspec": {
      "name": "julia-1.0",
      "display_name": "Julia 1.0.3",
      "language": "julia"
    },
    "nteract": {
      "version": "0.25.0"
    }
  },
  "nbformat": 4,
  "nbformat_minor": 3
}